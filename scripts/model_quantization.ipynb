{
 "cells": [
  {
   "cell_type": "markdown",
   "metadata": {
    "pycharm": {
     "name": "#%% md\n"
    }
   },
   "source": [
    "## Model compression demo"
   ]
  },
  {
   "cell_type": "markdown",
   "metadata": {},
   "source": [
    "This notebook demonstrates model compression through quantization using TFLite. We trained a ResNet50 mask/no-mask model to demonstrate this, which can be found in ../data/classifier_model_weights/resnet50_classifier.h5. Of course you are free to train your own model using the train-mask-nomask notebook."
   ]
  },
  {
   "cell_type": "code",
   "execution_count": 8,
   "metadata": {},
   "outputs": [],
   "source": [
    "import tensorflow as tf\n",
    "from tensorflow.keras.preprocessing.image import ImageDataGenerator\n",
    "from tensorflow.keras.applications.resnet50 import preprocess_input\n",
    "\n",
    "from sklearn import metrics \n",
    "from pathlib import Path\n",
    "\n",
    "import numpy as np"
   ]
  },
  {
   "cell_type": "markdown",
   "metadata": {},
   "source": [
    "### Extract test data and set up generator"
   ]
  },
  {
   "cell_type": "code",
   "execution_count": 9,
   "metadata": {},
   "outputs": [],
   "source": [
    "test_dir = Path('../data/test')\n",
    "model_dir = Path('../data/classifier_model_weights')"
   ]
  },
  {
   "cell_type": "code",
   "execution_count": 10,
   "metadata": {},
   "outputs": [
    {
     "name": "stdout",
     "output_type": "stream",
     "text": [
      "Found 268 images belonging to 2 classes.\n"
     ]
    }
   ],
   "source": [
    "target_size = (112,112)\n",
    "batch_size = 32\n",
    "\n",
    "test_datagen = ImageDataGenerator(preprocessing_function=preprocess_input)\n",
    "test_generator = test_datagen.flow_from_directory(test_dir,\n",
    "                                                  target_size=target_size,\n",
    "                                                  batch_size=batch_size,\n",
    "                                                  class_mode='binary',\n",
    "                                                  classes=['not_masked', 'masked'],\n",
    "                                                  shuffle=False)"
   ]
  },
  {
   "cell_type": "markdown",
   "metadata": {},
   "source": [
    "### Load the original model and check accuracy"
   ]
  },
  {
   "cell_type": "code",
   "execution_count": 11,
   "metadata": {},
   "outputs": [
    {
     "name": "stdout",
     "output_type": "stream",
     "text": [
      "The original model accuracy = 0.907\n"
     ]
    }
   ],
   "source": [
    "model = tf.keras.models.load_model(str(model_dir / 'resnet50_classifier.h5'))\n",
    "preds = [x[0] > 0.5 for x in model.predict(test_generator)]\n",
    "acc = metrics.accuracy_score(test_generator.classes, preds)\n",
    "print(f\"The original model accuracy = {acc:.3f}\")"
   ]
  },
  {
   "cell_type": "markdown",
   "metadata": {},
   "source": [
    "### Convert to tflite model and check accuracy"
   ]
  },
  {
   "cell_type": "code",
   "execution_count": 12,
   "metadata": {},
   "outputs": [
    {
     "name": "stdout",
     "output_type": "stream",
     "text": [
      "WARNING:tensorflow:From /home/toon/.local/lib/python3.8/site-packages/tensorflow/python/training/tracking/tracking.py:111: Model.state_updates (from tensorflow.python.keras.engine.training) is deprecated and will be removed in a future version.\n",
      "Instructions for updating:\n",
      "This property should not be used in TensorFlow 2.0, as updates are applied automatically.\n",
      "WARNING:tensorflow:From /home/toon/.local/lib/python3.8/site-packages/tensorflow/python/training/tracking/tracking.py:111: Layer.updates (from tensorflow.python.keras.engine.base_layer) is deprecated and will be removed in a future version.\n",
      "Instructions for updating:\n",
      "This property should not be used in TensorFlow 2.0, as updates are applied automatically.\n",
      "INFO:tensorflow:Assets written to: /tmp/tmp40i8qnqo/assets\n"
     ]
    }
   ],
   "source": [
    "converter = tf.lite.TFLiteConverter.from_keras_model(model)\n",
    "tflite_model = converter.convert()\n",
    "with open(model_dir / 'resnet50_classifier.tflite', 'wb') as f:\n",
    "    f.write(tflite_model)"
   ]
  },
  {
   "cell_type": "markdown",
   "metadata": {},
   "source": [
    "We see that the TFlite file is slightly smaller than the original .h5 file, but this is only due to the format conversion. No compression is done at this point."
   ]
  },
  {
   "cell_type": "code",
   "execution_count": 13,
   "metadata": {},
   "outputs": [
    {
     "name": "stdout",
     "output_type": "stream",
     "text": [
      "total 199M\r\n",
      "-rw-r--r-- 1 toon toon 15M oct.  22  2020 best.h5\r\n",
      "-rw-rw-r-- 1 toon toon 94M oct.  30 18:10 resnet50_classifier.h5\r\n",
      "-rw-rw-r-- 1 toon toon 91M déc.  23 15:22 resnet50_classifier.tflite\r\n"
     ]
    }
   ],
   "source": [
    "!ls -lh $model_dir"
   ]
  },
  {
   "cell_type": "markdown",
   "metadata": {},
   "source": [
    "As this is still the same model but just in a different format, we expect to see the same accuracy"
   ]
  },
  {
   "cell_type": "code",
   "execution_count": 14,
   "metadata": {},
   "outputs": [
    {
     "name": "stdout",
     "output_type": "stream",
     "text": [
      "The TFlite model accuracy = 0.907\n"
     ]
    }
   ],
   "source": [
    "interpreter = tf.lite.Interpreter(str(model_dir / 'resnet50_classifier.tflite'))\n",
    "\n",
    "input_details = interpreter.get_input_details()\n",
    "output_details = interpreter.get_output_details()\n",
    "\n",
    "interpreter.allocate_tensors()\n",
    "\n",
    "preds = []\n",
    "for batch_idx in range(len(test_generator)):\n",
    "    for img in test_generator[batch_idx][0]:\n",
    "        interpreter.set_tensor(input_details[0]['index'], np.expand_dims(img, axis=0))\n",
    "        interpreter.invoke()\n",
    "        output_data = interpreter.get_tensor(output_details[0]['index'])\n",
    "        preds.append(output_data[0][0])\n",
    "preds = [x > 0.5 for x in preds]\n",
    "\n",
    "tflit_acc = metrics.accuracy_score(test_generator.labels, preds)\n",
    "print(f\"The TFlite model accuracy = {acc:.3f}\")"
   ]
  },
  {
   "cell_type": "markdown",
   "metadata": {},
   "source": [
    "### Dynamic range quantization"
   ]
  },
  {
   "cell_type": "markdown",
   "metadata": {},
   "source": [
    "We do the same as before, but now enabling the default optimization. This will result in weights being quantized to 8 bit precision."
   ]
  },
  {
   "cell_type": "code",
   "execution_count": 15,
   "metadata": {},
   "outputs": [
    {
     "name": "stdout",
     "output_type": "stream",
     "text": [
      "INFO:tensorflow:Assets written to: /tmp/tmpisa9sfso/assets\n"
     ]
    },
    {
     "name": "stderr",
     "output_type": "stream",
     "text": [
      "INFO:tensorflow:Assets written to: /tmp/tmpisa9sfso/assets\n"
     ]
    }
   ],
   "source": [
    "converter = tf.lite.TFLiteConverter.from_keras_model(model)\n",
    "converter.optimizations = [tf.lite.Optimize.DEFAULT]\n",
    "tflite_model = converter.convert()\n",
    "with open(model_dir / 'resnet50_classifier_quantized.tflite', 'wb') as f:\n",
    "    f.write(tflite_model)"
   ]
  },
  {
   "cell_type": "code",
   "execution_count": 16,
   "metadata": {},
   "outputs": [
    {
     "name": "stdout",
     "output_type": "stream",
     "text": [
      "total 221M\r\n",
      "-rw-r--r-- 1 toon toon 15M oct.  22  2020 best.h5\r\n",
      "-rw-rw-r-- 1 toon toon 94M oct.  30 18:10 resnet50_classifier.h5\r\n",
      "-rw-rw-r-- 1 toon toon 23M déc.  23 15:24 resnet50_classifier_quantized.tflite\r\n",
      "-rw-rw-r-- 1 toon toon 91M déc.  23 15:22 resnet50_classifier.tflite\r\n"
     ]
    }
   ],
   "source": [
    "!ls -lh $model_dir"
   ]
  },
  {
   "cell_type": "markdown",
   "metadata": {
    "pycharm": {
     "name": "#%% md\n"
    }
   },
   "source": [
    "We can see that, as expected, the quantized model takes up ca. 1/4 of the disk space.\n",
    "Let's check the accurcay of this model as well."
   ]
  },
  {
   "cell_type": "code",
   "execution_count": 17,
   "metadata": {},
   "outputs": [
    {
     "name": "stdout",
     "output_type": "stream",
     "text": [
      "The quantized TFlite model accuracy = 0.918\n"
     ]
    }
   ],
   "source": [
    "interpreter = tf.lite.Interpreter(str(model_dir / 'resnet50_classifier_quantized.tflite'))\n",
    "input_details = interpreter.get_input_details()\n",
    "output_details = interpreter.get_output_details()\n",
    "interpreter.allocate_tensors()\n",
    "\n",
    "preds = []\n",
    "for batch_idx in range(len(test_generator)):\n",
    "    for img in test_generator[batch_idx][0]:\n",
    "        interpreter.set_tensor(input_details[0]['index'], np.expand_dims(img, axis=0))\n",
    "        interpreter.invoke()\n",
    "        output_data = interpreter.get_tensor(output_details[0]['index'])\n",
    "        preds.append(output_data[0][0])\n",
    "\n",
    "preds = [x > 0.5 for x in preds]\n",
    "tflite_acc = metrics.accuracy_score(test_generator.labels, preds)\n",
    "print(f\"The quantized TFlite model accuracy = {tflite_acc:.3f}\")"
   ]
  },
  {
   "cell_type": "markdown",
   "metadata": {},
   "source": [
    "### Benchmark RAM memory usage"
   ]
  },
  {
   "cell_type": "markdown",
   "metadata": {
    "pycharm": {
     "name": "#%% md\n"
    }
   },
   "source": [
    "We use the TFLite benchmark tool to compare inference memory usage."
   ]
  },
  {
   "cell_type": "code",
   "execution_count": 18,
   "metadata": {},
   "outputs": [
    {
     "name": "stdout",
     "output_type": "stream",
     "text": [
      "--2021-12-23 15:24:54--  https://storage.googleapis.com/tensorflow-nightly-public/prod/tensorflow/release/lite/tools/nightly/latest/linux_x86-64_benchmark_model\n",
      "Resolving storage.googleapis.com (storage.googleapis.com)... 2a00:1450:400e:80c::2010, 2a00:1450:400e:811::2010, 2a00:1450:400e:80e::2010, ...\n",
      "Connecting to storage.googleapis.com (storage.googleapis.com)|2a00:1450:400e:80c::2010|:443... connected.\n",
      "HTTP request sent, awaiting response... 200 OK\n",
      "Length: 3715136 (3,5M) [application/octet-stream]\n",
      "Saving to: ‘linux_x86-64_benchmark_model.1’\n",
      "\n",
      "linux_x86-64_benchm 100%[===================>]   3,54M  8,36MB/s    in 0,4s    \n",
      "\n",
      "2021-12-23 15:24:55 (8,36 MB/s) - ‘linux_x86-64_benchmark_model.1’ saved [3715136/3715136]\n",
      "\n"
     ]
    }
   ],
   "source": [
    "!wget https://storage.googleapis.com/tensorflow-nightly-public/prod/tensorflow/release/lite/tools/nightly/latest/linux_x86-64_benchmark_model\n",
    "!chmod +x linux_x86-64_benchmark_model"
   ]
  },
  {
   "cell_type": "code",
   "execution_count": 19,
   "metadata": {},
   "outputs": [
    {
     "name": "stdout",
     "output_type": "stream",
     "text": [
      "STARTING!\n",
      "Log parameter values verbosely: [0]\n",
      "Num threads: [4]\n",
      "Graph: [../data/classifier_model_weights/resnet50_classifier.tflite]\n",
      "#threads used for CPU inference: [4]\n",
      "Loaded model ../data/classifier_model_weights/resnet50_classifier.tflite\n",
      "The input model file size (MB): 95.0199\n",
      "Initialized session in 0.539ms.\n",
      "Running benchmark for at least 1 iterations and at least 0.5 seconds but terminate if exceeding 150 seconds.\n",
      "count=1 curr=645537\n",
      "\n",
      "Running benchmark for at least 50 iterations and at least 1 seconds but terminate if exceeding 150 seconds.\n",
      "count=50 first=736118 curr=840687 min=610993 max=1034606 avg=777758 std=118600\n",
      "\n",
      "Inference timings in us: Init: 539, First inference: 645537, Warmup (avg): 645537, Inference (avg): 777758\n",
      "Note: as the benchmark tool itself affects memory footprint, the following is only APPROXIMATE to the actual memory footprint of the model at runtime. Take the information at your discretion.\n",
      "Memory footprint delta from the start of the tool (MB): init=3.11328 overall=98.3906\n"
     ]
    }
   ],
   "source": [
    "non_compressed_model_path = (model_dir / 'resnet50_classifier.tflite').as_posix()\n",
    "!./linux_x86-64_benchmark_model --graph=$non_compressed_model_path --num_threads=4"
   ]
  },
  {
   "cell_type": "code",
   "execution_count": 20,
   "metadata": {},
   "outputs": [
    {
     "name": "stdout",
     "output_type": "stream",
     "text": [
      "STARTING!\n",
      "Log parameter values verbosely: [0]\n",
      "Num threads: [4]\n",
      "Graph: [../data/classifier_model_weights/resnet50_classifier_quantized.tflite]\n",
      "#threads used for CPU inference: [4]\n",
      "Loaded model ../data/classifier_model_weights/resnet50_classifier_quantized.tflite\n",
      "The input model file size (MB): 23.8721\n",
      "Initialized session in 0.92ms.\n",
      "Running benchmark for at least 1 iterations and at least 0.5 seconds but terminate if exceeding 150 seconds.\n",
      "count=3 first=245132 curr=169779 min=168356 max=245132 avg=194422 std=35861\n",
      "\n",
      "Running benchmark for at least 50 iterations and at least 1 seconds but terminate if exceeding 150 seconds.\n",
      "count=50 first=177161 curr=173635 min=167548 max=219950 avg=173387 std=7466\n",
      "\n",
      "Inference timings in us: Init: 920, First inference: 245132, Warmup (avg): 194422, Inference (avg): 173387\n",
      "Note: as the benchmark tool itself affects memory footprint, the following is only APPROXIMATE to the actual memory footprint of the model at runtime. Take the information at your discretion.\n",
      "Memory footprint delta from the start of the tool (MB): init=5.74219 overall=25.0195\n"
     ]
    }
   ],
   "source": [
    "compressed_model_path = (model_dir / 'resnet50_classifier_quantized.tflite').as_posix()\n",
    "!./linux_x86-64_benchmark_model --graph=$compressed_model_path --num_threads=4"
   ]
  }
 ],
 "metadata": {
  "kernelspec": {
   "display_name": "Python 3",
   "language": "python",
   "name": "python3"
  },
  "language_info": {
   "codemirror_mode": {
    "name": "ipython",
    "version": 3
   },
   "file_extension": ".py",
   "mimetype": "text/x-python",
   "name": "python",
   "nbconvert_exporter": "python",
   "pygments_lexer": "ipython3",
   "version": "3.8.10"
  }
 },
 "nbformat": 4,
 "nbformat_minor": 4
}
